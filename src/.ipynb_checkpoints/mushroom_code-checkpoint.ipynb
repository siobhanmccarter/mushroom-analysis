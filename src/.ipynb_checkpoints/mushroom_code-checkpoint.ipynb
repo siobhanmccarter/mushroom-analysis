{
 "cells": [
  {
   "cell_type": "markdown",
   "metadata": {},
   "source": [
    "# Mushroom Edibility"
   ]
  },
  {
   "cell_type": "code",
   "execution_count": 7,
   "metadata": {
    "collapsed": true
   },
   "outputs": [],
   "source": [
    "import pandas as pd\n",
    "import numpy as np\n",
    "import matplotlib.pyplot as plt\n",
    "from sklearn.ensemble import RandomForestClassifier\n",
    "from sklearn.tree import DecisionTreeClassifier\n",
    "from sklearn.svm import SVC\n",
    "from sklearn import preprocessing\n",
    "from sklearn.feature_selection import RFE\n",
    "\n",
    "from sklearn.model_selection import train_test_split, GridSearchCV, RandomizedSearchCV, cross_val_score\n",
    "from sklearn.metrics import accuracy_score, log_loss\n",
    "%matplotlib inline"
   ]
  },
  {
   "cell_type": "code",
   "execution_count": 15,
   "metadata": {
    "scrolled": true
   },
   "outputs": [],
   "source": [
    "mushroom = pd.read_csv(\"data/agaricus-lepiota.data.csv\")"
   ]
  },
  {
   "cell_type": "code",
   "execution_count": 16,
   "metadata": {},
   "outputs": [
    {
     "data": {
      "text/plain": [
       "0"
      ]
     },
     "execution_count": 16,
     "metadata": {},
     "output_type": "execute_result"
    }
   ],
   "source": [
    "# checking for any null/NA values\n",
    "mushroom.isnull().sum().sum()"
   ]
  },
  {
   "cell_type": "code",
   "execution_count": 17,
   "metadata": {
    "collapsed": true
   },
   "outputs": [],
   "source": [
    "# changing the str inputs to numerical outputs\n",
    "mushroom = mushroom.apply(preprocessing.LabelEncoder().fit_transform)"
   ]
  },
  {
   "cell_type": "code",
   "execution_count": 19,
   "metadata": {
    "collapsed": true
   },
   "outputs": [],
   "source": [
    "# define the target\n",
    "target = mushroom['p']\n",
    "\n",
    "# define the classifier data\n",
    "data = mushroom.iloc[:, 1:23]"
   ]
  },
  {
   "cell_type": "code",
   "execution_count": 20,
   "metadata": {},
   "outputs": [],
   "source": [
    "# split the training and test data\n",
    "Xtrain, Xtest, ytrain, ytest = train_test_split(data, target, test_size=0.50, random_state=1)"
   ]
  },
  {
   "cell_type": "code",
   "execution_count": 107,
   "metadata": {},
   "outputs": [
    {
     "name": "stdout",
     "output_type": "stream",
     "text": [
      "Training error for this model is 0.0376754493967\n",
      "Test error for this model is 0.0425898572132\n"
     ]
    }
   ],
   "source": [
    "# first I'm trying a linear SVM\n",
    "model = SVC(kernel = 'linear')\n",
    "model.fit(Xtrain, ytrain)\n",
    "\n",
    "train_err = 1-model.score(Xtrain, ytrain)\n",
    "print(\"Training error for this model is %s\" % train_err)\n",
    "test_err = 1-model.score(Xtest, ytest)\n",
    "print(\"Test error for this model is %s\" % test_err)"
   ]
  },
  {
   "cell_type": "markdown",
   "metadata": {},
   "source": [
    "Not too bad!"
   ]
  },
  {
   "cell_type": "code",
   "execution_count": 108,
   "metadata": {},
   "outputs": [
    {
     "name": "stdout",
     "output_type": "stream",
     "text": [
      "Training error for this model is 0.0194533366166\n",
      "Test error for this model is 0.021910388971\n"
     ]
    }
   ],
   "source": [
    "# next, I'm going to try a decision tree\n",
    "model = DecisionTreeClassifier(max_depth = 5)\n",
    "model.fit(Xtrain, ytrain)\n",
    "\n",
    "train_err = 1-model.score(Xtrain, ytrain)\n",
    "print(\"Training error for this model is %s\" % train_err)\n",
    "test_err = 1-model.score(Xtest, ytest)\n",
    "print(\"Test error for this model is %s\" % test_err)"
   ]
  },
  {
   "cell_type": "markdown",
   "metadata": {},
   "source": [
    "The decision tree has a great accuracy too!"
   ]
  },
  {
   "cell_type": "code",
   "execution_count": 100,
   "metadata": {},
   "outputs": [
    {
     "name": "stdout",
     "output_type": "stream",
     "text": [
      "Training error for this model is 0.0\n",
      "Test error for this model is 0.0\n"
     ]
    }
   ],
   "source": [
    "# last, I'm going to try a random forest\n",
    "model = RandomForestClassifier()\n",
    "model.fit(Xtrain, ytrain)\n",
    "\n",
    "train_err = 1-model.score(Xtrain, ytrain)\n",
    "print(\"Training error for this model is %s\" % train_err)\n",
    "test_err = 1-model.score(Xtest, ytest)\n",
    "print(\"Test error for this model is %s\" % test_err)"
   ]
  },
  {
   "cell_type": "markdown",
   "metadata": {},
   "source": [
    "The random forest has unparallelled accuracy, but it doesn't make for a very fun project. As such, I'm going to do some feature and parameter exploration using the linear SVM model."
   ]
  },
  {
   "cell_type": "code",
   "execution_count": 69,
   "metadata": {
    "scrolled": true
   },
   "outputs": [
    {
     "name": "stdout",
     "output_type": "stream",
     "text": [
      "{'C': 10.0, 'gamma': 9.9999999999999995e-07}\n",
      "0.982516621522\n"
     ]
    }
   ],
   "source": [
    "# i want to tune the model a little bit \n",
    "\n",
    "gammas = 10.0**np.arange(-6,1)\n",
    "parameters = {'gamma':gammas}\n",
    "svc = SVC(kernel = 'linear')\n",
    "\n",
    "clf = GridSearchCV(svc, {'gamma':gammas, 'C':[0.01,0.1,1,1.0,10.0]})\n",
    "clf.fit(Xtrain,ytrain)\n",
    "print(clf.best_params_)\n",
    "print(clf.best_score_)"
   ]
  },
  {
   "cell_type": "markdown",
   "metadata": {},
   "source": [
    "Alright, now that I have these parameters chosen, I'm going to think about the relevant features."
   ]
  },
  {
   "cell_type": "code",
   "execution_count": 90,
   "metadata": {
    "collapsed": true
   },
   "outputs": [],
   "source": [
    "# This was borrowed from DSCI 573 lab 1\n",
    "def fit_and_report(model, X, y, Xv, yv):\n",
    "    model.fit(X,y)\n",
    "    mean_squared_err = lambda y, yhat: np.mean((y-yhat)**2)\n",
    "    errors = [mean_squared_err(y, model.predict(X)), mean_squared_err(yv, model.predict(Xv))]\n",
    "    return errors"
   ]
  },
  {
   "cell_type": "code",
   "execution_count": 92,
   "metadata": {
    "scrolled": true
   },
   "outputs": [
    {
     "name": "stdout",
     "output_type": "stream",
     "text": [
      "[False False False  True False  True  True  True False  True  True  True\n",
      " False False False False  True  True  True False False False]\n",
      "Training error:   0.0266\n",
      "Validation error: 0.0286\n"
     ]
    }
   ],
   "source": [
    "# I'm going to use sklearn's `RFE` for this\n",
    "svc = SVC(kernel = 'linear',gamma = 1e-06, C = 10)\n",
    "\n",
    "rfe = RFE(estimator = svc, n_features_to_select = 10)\n",
    "\n",
    "rfe.fit(Xtrain, ytrain)\n",
    "Xtrain_sel = Xtrain.iloc[:, rfe.support_]\n",
    "Xtest_sel = Xtest.iloc[:, rfe.support_]\n",
    "\n",
    "errs = fit_and_report(svc, Xtrain_sel, ytrain, Xtest_sel, ytest)\n",
    "\n",
    "print(\"Training error:   %.3g\" % errs[0])\n",
    "print(\"Validation error: %.3g\" % errs[1])"
   ]
  },
  {
   "cell_type": "markdown",
   "metadata": {},
   "source": [
    "Ok, but how do i know that I only want 10 features? I'm going to run through the full gamut to decide how many I want."
   ]
  },
  {
   "cell_type": "code",
   "execution_count": 98,
   "metadata": {},
   "outputs": [
    {
     "data": {
      "image/png": "[encoded data removed]",
      "text/plain": [
       "<matplotlib.figure.Figure at 0x11d8c4ac8>"
      ]
     },
     "metadata": {},
     "output_type": "display_data"
    }
   ],
   "source": [
    "# making two lists \n",
    "trainer = list()\n",
    "testerr = list()\n",
    "\n",
    "ft = list(range(1,23))\n",
    "\n",
    "for f in ft:\n",
    "    svc = SVC(kernel = 'linear',gamma = 1e-06, C = 10)\n",
    "\n",
    "    rfe = RFE(estimator = svc, n_features_to_select = f)\n",
    "\n",
    "    rfe.fit(Xtrain, ytrain)\n",
    "    Xtrain_sel = Xtrain.iloc[:, rfe.support_]\n",
    "    Xtest_sel = Xtest.iloc[:, rfe.support_]\n",
    "    \n",
    "    errs = fit_and_report(svc, Xtrain_sel, ytrain, Xtest_sel, ytest)\n",
    "    \n",
    "    trainer.append(errs[0])\n",
    "    testerr.append(errs[1])\n",
    "\n",
    "# plotting the train and test error\n",
    "plt.plot(ft, trainer, label=\"train\")\n",
    "plt.plot(ft, testerr, label=\"test\")\n",
    "plt.xlabel(\"Number of Features\")\n",
    "plt.ylabel(\"Error\")\n",
    "plt.legend()\n",
    "plt.show()"
   ]
  },
  {
   "cell_type": "markdown",
   "metadata": {},
   "source": [
    "I'm going to leave it at 10 features. With fewer than 10, the error is higher. With greater than 10, the error does not go down substantially."
   ]
  },
  {
   "cell_type": "code",
   "execution_count": null,
   "metadata": {
    "collapsed": true
   },
   "outputs": [],
   "source": []
  }
 ],
 "metadata": {
  "kernelspec": {
   "display_name": "Python 3",
   "language": "python",
   "name": "python3"
  },
  "language_info": {
   "codemirror_mode": {
    "name": "ipython",
    "version": 3
   },
   "file_extension": ".py",
   "mimetype": "text/x-python",
   "name": "python",
   "nbconvert_exporter": "python",
   "pygments_lexer": "ipython3",
   "version": "3.6.1"
  }
 },
 "nbformat": 4,
 "nbformat_minor": 2
}
