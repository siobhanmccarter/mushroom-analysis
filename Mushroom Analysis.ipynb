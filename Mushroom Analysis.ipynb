{
 "cells": [
  {
   "cell_type": "markdown",
   "metadata": {},
   "source": [
    "# Mushroom Edibility"
   ]
  },
  {
   "cell_type": "code",
   "execution_count": 70,
   "metadata": {
    "collapsed": true
   },
   "outputs": [],
   "source": [
    "import pandas as pd\n",
    "import numpy as np\n",
    "import matplotlib.pyplot as plt\n",
    "from sklearn.ensemble import RandomForestClassifier\n",
    "from sklearn.tree import DecisionTreeClassifier\n",
    "from sklearn.svm import SVC\n",
    "from sklearn.naive_bayes import GaussianNB\n",
    "from sklearn import preprocessing\n",
    "from sklearn.feature_selection import RFE\n",
    "\n",
    "from sklearn.model_selection import train_test_split, GridSearchCV, RandomizedSearchCV, cross_val_score\n",
    "from sklearn.metrics import accuracy_score, log_loss\n",
    "%matplotlib inline"
   ]
  },
  {
   "cell_type": "code",
   "execution_count": 48,
   "metadata": {
    "collapsed": true
   },
   "outputs": [],
   "source": [
    "mushroom = pd.read_csv(\"data/agaricus-lepiota.data.csv\")"
   ]
  },
  {
   "cell_type": "code",
   "execution_count": 56,
   "metadata": {},
   "outputs": [],
   "source": [
    "mushroom = mushroom.apply(preprocessing.LabelEncoder().fit_transform)"
   ]
  },
  {
   "cell_type": "code",
   "execution_count": 57,
   "metadata": {},
   "outputs": [],
   "source": [
    "# define the target\n",
    "target = mushroom['p']\n",
    "\n",
    "# define the classifier data\n",
    "data = mushroom.iloc[:, 1:23]"
   ]
  },
  {
   "cell_type": "code",
   "execution_count": 59,
   "metadata": {},
   "outputs": [],
   "source": [
    "# split the training and test data\n",
    "Xtrain, Xtest, ytrain, ytest = train_test_split(data, target, test_size=0.50, random_state=1)"
   ]
  },
  {
   "cell_type": "code",
   "execution_count": 62,
   "metadata": {},
   "outputs": [
    {
     "name": "stdout",
     "output_type": "stream",
     "text": [
      "Training error for this model is 0.0837232208816\n",
      "Test error for this model is 0.0839487936977\n"
     ]
    }
   ],
   "source": [
    "# First I am trying Naive Bayes\n",
    "model = GaussianNB()\n",
    "model.fit(Xtrain, ytrain)\n",
    "\n",
    "train_err = 1-model.score(Xtrain, ytrain)\n",
    "print(\"Training error for this model is %s\" % train_err)\n",
    "test_err = 1-model.score(Xtest, ytest)\n",
    "print(\"Test error for this model is %s\" % test_err)"
   ]
  },
  {
   "cell_type": "markdown",
   "metadata": {},
   "source": [
    "Not bad..."
   ]
  },
  {
   "cell_type": "code",
   "execution_count": 64,
   "metadata": {},
   "outputs": [
    {
     "name": "stdout",
     "output_type": "stream",
     "text": [
      "Training error for this model is 0.0376754493967\n",
      "Test error for this model is 0.0425898572132\n"
     ]
    }
   ],
   "source": [
    "# Now I'm trying a linear SVM\n",
    "model = SVC(kernel = 'linear')\n",
    "model.fit(Xtrain, ytrain)\n",
    "\n",
    "train_err = 1-model.score(Xtrain, ytrain)\n",
    "print(\"Training error for this model is %s\" % train_err)\n",
    "test_err = 1-model.score(Xtest, ytest)\n",
    "print(\"Test error for this model is %s\" % test_err)"
   ]
  },
  {
   "cell_type": "markdown",
   "metadata": {},
   "source": [
    "This looks like it has an overall better accuracy than the Naive Bayes. "
   ]
  },
  {
   "cell_type": "code",
   "execution_count": 69,
   "metadata": {
    "scrolled": true
   },
   "outputs": [
    {
     "name": "stdout",
     "output_type": "stream",
     "text": [
      "{'C': 10.0, 'gamma': 9.9999999999999995e-07}\n",
      "0.982516621522\n"
     ]
    }
   ],
   "source": [
    "# Next, I want to tune the model a little bit \n",
    "gammas = 10.0**np.arange(-6,1)\n",
    "parameters = {'gamma':gammas}\n",
    "svc = SVC(kernel = 'linear')\n",
    "\n",
    "clf = GridSearchCV(svc, {'gamma':gammas, 'C':[0.01,0.1,1,1.0,10.0]})\n",
    "clf.fit(Xtrain,ytrain)\n",
    "print(clf.best_params_)\n",
    "print(clf.best_score_)"
   ]
  },
  {
   "cell_type": "markdown",
   "metadata": {},
   "source": [
    "Alright, now that I have these parameters chosen, I'm going to think about the relevant features."
   ]
  },
  {
   "cell_type": "code",
   "execution_count": 90,
   "metadata": {
    "collapsed": true
   },
   "outputs": [],
   "source": [
    "def fit_and_report(model, X, y, Xv, yv):\n",
    "    model.fit(X,y)\n",
    "    mean_squared_err = lambda y, yhat: np.mean((y-yhat)**2)\n",
    "    errors = [mean_squared_err(y, model.predict(X)), mean_squared_err(yv, model.predict(Xv))]\n",
    "    return errors"
   ]
  },
  {
   "cell_type": "code",
   "execution_count": 92,
   "metadata": {
    "scrolled": true
   },
   "outputs": [
    {
     "name": "stdout",
     "output_type": "stream",
     "text": [
      "[False False False  True False  True  True  True False  True  True  True\n",
      " False False False False  True  True  True False False False]\n",
      "Training error:   0.0266\n",
      "Validation error: 0.0286\n"
     ]
    }
   ],
   "source": [
    "# I'm going to use sklearn's `RFE` for this\n",
    "svc = SVC(kernel = 'linear',gamma = 1e-06, C = 10)\n",
    "\n",
    "rfe = RFE(estimator = svc, n_features_to_select = 10)\n",
    "\n",
    "rfe.fit(Xtrain, ytrain)\n",
    "Xtrain_sel = Xtrain.iloc[:, rfe.support_]\n",
    "Xtest_sel = Xtest.iloc[:, rfe.support_]\n",
    "\n",
    "errs = fit_and_report(svc, Xtrain_sel, ytrain, Xtest_sel, ytest)\n",
    "\n",
    "print(\"Training error:   %.3g\" % errs[0])\n",
    "print(\"Validation error: %.3g\" % errs[1])"
   ]
  },
  {
   "cell_type": "markdown",
   "metadata": {},
   "source": [
    "Ok, but how do i know that I only want 10 features? I'm going to run through the full gamut to decide how many that I want."
   ]
  },
  {
   "cell_type": "code",
   "execution_count": null,
   "metadata": {
    "collapsed": true
   },
   "outputs": [],
   "source": [
    "# make an empty list to hold train error, and one to hold test error\n",
    "trainer = list()\n",
    "valerr = list()\n",
    "\n",
    "ft = list(range(1,23))\n",
    "# loop over the features, and fit the model each time\n",
    "# also calculate train and test error\n",
    "for f in ft:\n",
    "    svc = SVC(kernel = 'linear',gamma = 1e-06, C = 10)\n",
    "\n",
    "    rfe = RFE(estimator = svc, n_features_to_select = f)\n",
    "\n",
    "    rfe.fit(Xtrain, ytrain)\n",
    "    Xtrain_sel = Xtrain.iloc[:, rfe.support_]\n",
    "    Xtest_sel = Xtest.iloc[:, rfe.support_]\n",
    "    \n",
    "    errs = fit_and_report(svc, Xtrain_sel, ytrain, Xtest_sel, ytest)\n",
    "    \n",
    "    trainer.append(errs[0])\n",
    "    valerr.append(errs[1])\n",
    "\n",
    "    # plot validation loss\n",
    "plt.plot(ft, trainer, label=\"train\")\n",
    "plt.plot(ft, valerr, label=\"test\")\n",
    "plt.xlabel(\"feats\")\n",
    "plt.ylabel(\"error\")\n",
    "plt.legend()\n",
    "plt.show()"
   ]
  },
  {
   "cell_type": "code",
   "execution_count": null,
   "metadata": {
    "collapsed": true
   },
   "outputs": [],
   "source": []
  }
 ],
 "metadata": {
  "kernelspec": {
   "display_name": "Python 3",
   "language": "python",
   "name": "python3"
  },
  "language_info": {
   "codemirror_mode": {
    "name": "ipython",
    "version": 3
   },
   "file_extension": ".py",
   "mimetype": "text/x-python",
   "name": "python",
   "nbconvert_exporter": "python",
   "pygments_lexer": "ipython3",
   "version": "3.6.1"
  }
 },
 "nbformat": 4,
 "nbformat_minor": 2
}
