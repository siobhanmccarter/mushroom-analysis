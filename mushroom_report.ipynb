{
 "cells": [
  {
   "cell_type": "markdown",
   "metadata": {},
   "source": [
    "# Mushroom Edibility Report"
   ]
  },
  {
   "cell_type": "markdown",
   "metadata": {},
   "source": [
    "## Overview\n",
    "\n",
    "This is a project for DSCI 573, a features and model selections class. The goal was to perform a full analysis on a dataset of my choosing. In this case, I chose a dataset pertaining to mushroom edibility. The goal was to create an accurate model that could predict whether or not a mushroom was edible given a set of attributes."
   ]
  },
  {
   "cell_type": "markdown",
   "metadata": {},
   "source": [
    "## Data\n",
    "\n",
    "For this project, I used [this dataset](http://archive.ics.uci.edu/ml/datasets/Mushroom) from the UCI machine learning database. It has 22 attributes: the first (target labels) show whether the mushroom is poisonous (`p`) or edible (`e`). "
   ]
  },
  {
   "cell_type": "markdown",
   "metadata": {},
   "source": [
    "## Methodology\n",
    "\n",
    "### Data Wrangling\n",
    "\n",
    "Luckily, there was little cleaning to be done with this dataset. To \n",
    "\n",
    "This is a classification problem. There are a number of supervised machine learning models I could use for such a problem. \n",
    "\n",
    "### Model Selection\n",
    "\n",
    "I decided to test out three methods: a linear SVM, a decision tree at depth 5, and a random forest ensemble classifier. I chose these three to test out three different types of classifier:   \n",
    "\n",
    "### Feature Selection\n",
    "\n",
    "The first step for this step of the project was to "
   ]
  },
  {
   "cell_type": "markdown",
   "metadata": {},
   "source": [
    "## Results and Discussion\n",
    "\n",
    "All 3 of the models that I fit to the data had very good results with their \n",
    "\n",
    "| Classifier | Training Error | Test Error|\n",
    "| ---|---|---|\n",
    "|Linear SVM | | |\n",
    "|Decision Tree | | |\n",
    "|Random Forest| | |"
   ]
  },
  {
   "cell_type": "markdown",
   "metadata": {},
   "source": [
    "## Conclusion\n",
    "\n",
    "My main conclusion from this analysis is that the relationship between the 22 attributes and whether or not the mushroom is poisonous or edible is so strong that it makes fitting a machine learning model very easy. All of themodels "
   ]
  }
 ],
 "metadata": {
  "kernelspec": {
   "display_name": "Python 3",
   "language": "python",
   "name": "python3"
  },
  "language_info": {
   "codemirror_mode": {
    "name": "ipython",
    "version": 3
   },
   "file_extension": ".py",
   "mimetype": "text/x-python",
   "name": "python",
   "nbconvert_exporter": "python",
   "pygments_lexer": "ipython3",
   "version": "3.6.1"
  }
 },
 "nbformat": 4,
 "nbformat_minor": 2
}
